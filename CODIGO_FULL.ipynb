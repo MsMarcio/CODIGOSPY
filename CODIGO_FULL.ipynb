{
 "cells": [
  {
   "cell_type": "code",
   "execution_count": null,
   "metadata": {},
   "outputs": [],
   "source": [
    "import os\n",
    "import pandas as pd\n",
    "\n",
    "# Carregar o arquivo Excel\n",
    "file_path = 'NOME_PASTA.xlsx'\n",
    "df = pd.read_excel(file_path, sheet_name='Planilha1')\n",
    "\n",
    "# Caminho base para a criação das pastas\n",
    "base_path = r'C:\\Users\\marci\\OneDrive\\01 - DRIVE_PESSOAL\\ARRUMAR\\Desktop\\GO'\n",
    "\n",
    "# Criar pastas com base na coluna \"NOME PASTA\"\n",
    "for pasta in df['NOME PASTA']:\n",
    "    # Construir o caminho completo da nova pasta\n",
    "    new_folder_path = os.path.join(base_path, pasta)\n",
    "    \n",
    "    # Verificar se a pasta já existe, se não, criar\n",
    "    if not os.path.exists(new_folder_path):\n",
    "        os.makedirs(new_folder_path)\n",
    "        print(f'Pasta criada: {new_folder_path}')\n",
    "    else:\n",
    "        print(f'Pasta já existe: {new_folder_path}')\n"
   ]
  }
 ],
 "metadata": {
  "language_info": {
   "name": "python"
  }
 },
 "nbformat": 4,
 "nbformat_minor": 2
}
